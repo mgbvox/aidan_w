{
 "cells": [
  {
   "cell_type": "code",
   "execution_count": 1,
   "metadata": {},
   "outputs": [
    {
     "name": "stdout",
     "output_type": "stream",
     "text": [
      "Populating the interactive namespace from numpy and matplotlib\n",
      "Populating the interactive namespace from numpy and matplotlib\n",
      "Requirement already satisfied: tqdm in /Users/aidanwiteck/anaconda3/lib/python3.7/site-packages (4.31.1)\n"
     ]
    }
   ],
   "source": [
    "%load_ext autoreload\n",
    "%reload_ext autoreload\n",
    "%autoreload 2\n",
    "%pylab inline\n",
    "import stmpy\n",
    "import stmpy.driftcorr as dfc\n",
    "import scipy as sp\n",
    "from dset_utils import *\n",
    "from numpy import *\n",
    "import matplotlib.patches as patches\n",
    "import random as rd\n",
    "import PIL\n",
    "from tqdm import tqdm\n",
    "import os\n",
    "%pylab inline\n",
    "!pip install tqdm"
   ]
  },
  {
   "cell_type": "code",
   "execution_count": 2,
   "metadata": {},
   "outputs": [
    {
     "name": "stdout",
     "output_type": "stream",
     "text": [
      "/Users/aidanwiteck/Desktop/Harvard/part2/rcnn-from-aws\n"
     ]
    }
   ],
   "source": [
    "cd /Users/aidanwiteck/Desktop/Harvard/part2/rcnn-from-aws/"
   ]
  },
  {
   "cell_type": "code",
   "execution_count": 17,
   "metadata": {},
   "outputs": [
    {
     "name": "stderr",
     "output_type": "stream",
     "text": [
      "100%|██████████| 100/100 [00:07<00:00,  9.21it/s]\n"
     ]
    }
   ],
   "source": [
    "### import PIL\n",
    "from tqdm import tqdm\n",
    "import os\n",
    "import pandas as pd\n",
    "\n",
    "dpath_root = './obj_detection/YOLO'\n",
    "datatrain = 'data/train.txt'\n",
    "datatest ='data/test.txt'\n",
    "\n",
    "!rm -rf ./obj_detection/YOLO/images/train\n",
    "!rm -rf ./obj_detection/YOLO/images/test\n",
    "!mkdir ./obj_detection/YOLO/images/train\n",
    "!mkdir ./obj_detection/YOLO/images/test\n",
    "\n",
    "z0 = generate_map(50, 320, 1)\n",
    "a = numpy.asarray([ ['class', 'x_center', 'y_center', 'width', 'height'] ])\n",
    "n = 100\n",
    "test_pct = .2\n",
    "\n",
    "trainimagepaths = []\n",
    "testimagepaths = []\n",
    "\n",
    "for a in tqdm(range(n)):\n",
    "    z, p, w = generate_image()\n",
    "    p/=len(z0); w/=len(z0)\n",
    "    p=around(p,4); w=around(w,4)\n",
    "    im = PIL.Image.fromarray(z)\n",
    "    if im.mode != 'RGB':\n",
    "        im = im.convert('RGB')\n",
    "    impath = None\n",
    "    if a<(n*test_pct):\n",
    "        #impath = os.path.join(os.path.abspath('.'),f'keras-frcnn/test_imgs/{a}.jpg')\n",
    "        impath = f'images/test/{a}.jpg'\n",
    "        labelpath = f'labels/test/{a}.txt'\n",
    "        testimagepaths.append(dpath_root+impath)\n",
    "    else:\n",
    "        #impath = os.path.join(os.path.abspath('.'),f'keras-frcnn/train_imgs/{a}.jpg')\n",
    "        impath = f'images/train/{a}.jpg'\n",
    "        labelpath = f'labels/train/{a}.txt'\n",
    "        trainimagepaths.append(dpath_root+impath)\n",
    "\n",
    "    im.save(os.path.join(dpath_root,impath))\n",
    "\n",
    "    rows = []\n",
    "    for b in range(len(p)):\n",
    "        t= (p[b][0],p[b][1],w[b],w[b])\n",
    "        temprow = list(t)\n",
    "        rows.append(['0']+temprow)\n",
    "    \n",
    "    \n",
    "        \n",
    "    df = pd.DataFrame.from_records(rows)\n",
    "    df.columns = ['class', 'x_center', 'y_center', 'width', 'height']\n",
    "    df = df[['class', 'x_center', 'y_center', 'width', 'height']]\n",
    "    df.to_csv(os.path.join(dpath_root,labelpath), index=False, sep=' ', header=None)\n",
    "\n",
    "    \n",
    "    \n",
    "df2 = pd.DataFrame(trainimagepaths)\n",
    "df2.to_csv(os.path.join(dpath_root,datatrain), index=False, sep=' ', header=None)\n",
    "\n",
    "df3 = pd.DataFrame(testimagepaths)\n",
    "df3.to_csv(os.path.join(dpath_root,datatest), index=False, sep=' ', header=None)"
   ]
  },
  {
   "cell_type": "code",
   "execution_count": 16,
   "metadata": {},
   "outputs": [
    {
     "data": {
      "text/html": [
       "<div>\n",
       "<style scoped>\n",
       "    .dataframe tbody tr th:only-of-type {\n",
       "        vertical-align: middle;\n",
       "    }\n",
       "\n",
       "    .dataframe tbody tr th {\n",
       "        vertical-align: top;\n",
       "    }\n",
       "\n",
       "    .dataframe thead th {\n",
       "        text-align: right;\n",
       "    }\n",
       "</style>\n",
       "<table border=\"1\" class=\"dataframe\">\n",
       "  <thead>\n",
       "    <tr style=\"text-align: right;\">\n",
       "      <th></th>\n",
       "      <th>0</th>\n",
       "    </tr>\n",
       "  </thead>\n",
       "  <tbody>\n",
       "    <tr>\n",
       "      <th>0</th>\n",
       "      <td>./obj_detection/YOLOimages/train/2.jpg</td>\n",
       "    </tr>\n",
       "    <tr>\n",
       "      <th>1</th>\n",
       "      <td>./obj_detection/YOLOimages/train/3.jpg</td>\n",
       "    </tr>\n",
       "    <tr>\n",
       "      <th>2</th>\n",
       "      <td>./obj_detection/YOLOimages/train/4.jpg</td>\n",
       "    </tr>\n",
       "    <tr>\n",
       "      <th>3</th>\n",
       "      <td>./obj_detection/YOLOimages/train/5.jpg</td>\n",
       "    </tr>\n",
       "    <tr>\n",
       "      <th>4</th>\n",
       "      <td>./obj_detection/YOLOimages/train/6.jpg</td>\n",
       "    </tr>\n",
       "    <tr>\n",
       "      <th>5</th>\n",
       "      <td>./obj_detection/YOLOimages/train/7.jpg</td>\n",
       "    </tr>\n",
       "    <tr>\n",
       "      <th>6</th>\n",
       "      <td>./obj_detection/YOLOimages/train/8.jpg</td>\n",
       "    </tr>\n",
       "    <tr>\n",
       "      <th>7</th>\n",
       "      <td>./obj_detection/YOLOimages/train/9.jpg</td>\n",
       "    </tr>\n",
       "  </tbody>\n",
       "</table>\n",
       "</div>"
      ],
      "text/plain": [
       "                                        0\n",
       "0  ./obj_detection/YOLOimages/train/2.jpg\n",
       "1  ./obj_detection/YOLOimages/train/3.jpg\n",
       "2  ./obj_detection/YOLOimages/train/4.jpg\n",
       "3  ./obj_detection/YOLOimages/train/5.jpg\n",
       "4  ./obj_detection/YOLOimages/train/6.jpg\n",
       "5  ./obj_detection/YOLOimages/train/7.jpg\n",
       "6  ./obj_detection/YOLOimages/train/8.jpg\n",
       "7  ./obj_detection/YOLOimages/train/9.jpg"
      ]
     },
     "execution_count": 16,
     "metadata": {},
     "output_type": "execute_result"
    }
   ],
   "source": [
    "df2"
   ]
  },
  {
   "cell_type": "code",
   "execution_count": null,
   "metadata": {},
   "outputs": [],
   "source": []
  }
 ],
 "metadata": {
  "kernelspec": {
   "display_name": "Python 3",
   "language": "python",
   "name": "python3"
  },
  "language_info": {
   "codemirror_mode": {
    "name": "ipython",
    "version": 3
   },
   "file_extension": ".py",
   "mimetype": "text/x-python",
   "name": "python",
   "nbconvert_exporter": "python",
   "pygments_lexer": "ipython3",
   "version": "3.7.3"
  },
  "toc": {
   "base_numbering": 1,
   "nav_menu": {},
   "number_sections": true,
   "sideBar": true,
   "skip_h1_title": false,
   "title_cell": "Table of Contents",
   "title_sidebar": "Contents",
   "toc_cell": false,
   "toc_position": {},
   "toc_section_display": true,
   "toc_window_display": false
  }
 },
 "nbformat": 4,
 "nbformat_minor": 2
}
