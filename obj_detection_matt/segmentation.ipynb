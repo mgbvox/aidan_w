{
 "cells": [
  {
   "cell_type": "code",
   "execution_count": 1,
   "metadata": {},
   "outputs": [
    {
     "name": "stdout",
     "output_type": "stream",
     "text": [
      "Populating the interactive namespace from numpy and matplotlib\n"
     ]
    }
   ],
   "source": [
    "%pylab inline\n",
    "\n",
    "from fastai.vision import *\n",
    "from fastai.callbacks.hooks import *\n",
    "from fastai.utils.mem import *"
   ]
  },
  {
   "cell_type": "code",
   "execution_count": null,
   "metadata": {},
   "outputs": [],
   "source": [
    "dpath_root = './frcnn-from-scratch-with-keras/'\n",
    "\n",
    "'''\n",
    "Eventually need something like this:\n",
    "path_img = Path('./brats_png/images')\n",
    "path_lbl = Path('./brats_png/labels')\n",
    "\n",
    "To get there, we'll need:\n",
    "1) The raw images - this is already accomplished.\n",
    "2) Mask images with 0s on non-imperfection pixels, and 1s on imperfection pixels.\n",
    "\n",
    "To get 2), we'll need to modify the generate_image function to return the image and it's corresponding map.\n",
    "\n",
    "'''"
   ]
  }
 ],
 "metadata": {
  "kernelspec": {
   "display_name": "conda_pytorch_p36",
   "language": "python",
   "name": "conda_pytorch_p36"
  },
  "language_info": {
   "codemirror_mode": {
    "name": "ipython",
    "version": 3
   },
   "file_extension": ".py",
   "mimetype": "text/x-python",
   "name": "python",
   "nbconvert_exporter": "python",
   "pygments_lexer": "ipython3",
   "version": "3.6.5"
  }
 },
 "nbformat": 4,
 "nbformat_minor": 4
}
